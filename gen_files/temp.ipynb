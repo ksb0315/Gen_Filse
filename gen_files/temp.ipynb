{
 "cells": [
  {
   "cell_type": "code",
   "execution_count": 6,
   "id": "b0565b73",
   "metadata": {},
   "outputs": [
    {
     "name": "stdout",
     "output_type": "stream",
     "text": [
      "C:/Users/sunbum/Desktop/공모전/temp_files\\hello2.py 파일이 생성되었습니다.\n"
     ]
    }
   ],
   "source": [
    "# 필요한 모듈을 import 합니다.\n",
    "import os\n",
    "\n",
    "# 파일 경로와 이름을 지정합니다.\n",
    "file_path = \"C:/Users/sunbum/Desktop/공모전/temp_files\"\n",
    "file_name = \"hello2.py\"\n",
    "file_content = \"\"\"print(\"Hello, World!\")\n",
    "print(\"Hello, World!\")\"\"\"\n",
    "\n",
    "# 파일이 이미 존재하면 삭제합니다.\n",
    "if os.path.exists(os.path.join(file_path, file_name)):\n",
    "    os.remove(os.path.join(file_path, file_name))\n",
    "    \n",
    "# 파일 디렉토리가 존재하지 않으면 생성합니다.\n",
    "if not os.path.exists(file_path):\n",
    "    os.makedirs(file_path)\n",
    "\n",
    "# 파일 객체를 생성합니다.\n",
    "with open(os.path.join(file_path, file_name), \"w\") as f:\n",
    "    # 파일에 내용을 작성합니다.\n",
    "    f.write(file_content)\n",
    "\n",
    "print(f\"{os.path.join(file_path, file_name)} 파일이 생성되었습니다.\")\n"
   ]
  }
 ],
 "metadata": {
  "kernelspec": {
   "display_name": "Python 3 (ipykernel)",
   "language": "python",
   "name": "python3"
  },
  "language_info": {
   "codemirror_mode": {
    "name": "ipython",
    "version": 3
   },
   "file_extension": ".py",
   "mimetype": "text/x-python",
   "name": "python",
   "nbconvert_exporter": "python",
   "pygments_lexer": "ipython3",
   "version": "3.9.12"
  }
 },
 "nbformat": 4,
 "nbformat_minor": 5
}
